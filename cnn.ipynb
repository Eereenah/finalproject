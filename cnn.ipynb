{
 "cells": [
  {
   "cell_type": "code",
   "execution_count": 1,
   "metadata": {
    "collapsed": false
   },
   "outputs": [],
   "source": [
    "# set up Python environment: numpy for numerical routines, and matplotlib for plotting\n",
    "import numpy as np\n",
    "import matplotlib.pyplot as plt\n",
    "# display plots in this notebook\n",
    "%matplotlib inline\n",
    "\n",
    "# set display defaults\n",
    "plt.rcParams['figure.figsize'] = (10, 10)        # large images\n",
    "plt.rcParams['image.interpolation'] = 'nearest'  # don't interpolate: show square pixels\n",
    "plt.rcParams['image.cmap'] = 'gray'  # use grayscale output rather than a (potentially misleading) color heatmap\n",
    "\n",
    "import tempfile\n",
    "import random\n",
    "import sys\n",
    "root = '../../../caffe'  # this file should be run from {caffe_root}/examples (otherwise change this line)\n",
    "sys.path.insert(0, root + 'python')\n",
    "\n",
    "import caffe\n",
    "import os\n",
    "from sklearn import linear_model\n",
    "import json\n",
    "from sklearn.metrics import confusion_matrix\n",
    "from sklearn.metrics import classification_report\n",
    "\n",
    "caffe.set_device(0)\n",
    "caffe.set_mode_gpu()"
   ]
  },
  {
   "cell_type": "code",
   "execution_count": 2,
   "metadata": {
    "collapsed": true
   },
   "outputs": [],
   "source": [
    "import skimage.exposure as exposure\n",
    "import skimage.transform as transform\n",
    "import skimage.io as io\n",
    "from time import time\n",
    "from time import sleep"
   ]
  },
  {
   "cell_type": "code",
   "execution_count": 3,
   "metadata": {
    "collapsed": false
   },
   "outputs": [],
   "source": [
    "seed = random.seed(100)"
   ]
  },
  {
   "cell_type": "code",
   "execution_count": 4,
   "metadata": {
    "collapsed": true
   },
   "outputs": [],
   "source": [
    "alexpath = '../../../networks/alexnet/' \n",
    "vggpath = '../../../networks/vgg/'\n",
    "images = '../../../data/food-101/images/'\n",
    "meanimage = np.load('../../../caffe/python/caffe/imagenet/ilsvrc_2012_mean.npy')\n",
    "meanimage = meanimage.mean(1).mean(1)"
   ]
  },
  {
   "cell_type": "code",
   "execution_count": 5,
   "metadata": {
    "collapsed": false
   },
   "outputs": [
    {
     "name": "stdout",
     "output_type": "stream",
     "text": [
      "alex\n",
      "vgg\n"
     ]
    }
   ],
   "source": [
    "if os.path.isfile(alexpath + \"alexnet.caffemodel\"):\n",
    "    print 'alex'\n",
    "if os.path.isfile(vggpath + \"VGG_ILSVRC_16_layers.caffemodel\"):\n",
    "    print 'vgg'"
   ]
  },
  {
   "cell_type": "code",
   "execution_count": 6,
   "metadata": {
    "collapsed": false
   },
   "outputs": [],
   "source": [
    "with open('../../../data/food-101/meta/train.json') as data_file:    \n",
    "    train = json.load(data_file)\n",
    "\n",
    "with open('../../../data/food-101/meta/test.json') as data_file:    \n",
    "    test = json.load(data_file) \n",
    "    \n",
    "classes = list(np.loadtxt('../../../projects/irina.tirosyan/1.CNN-Classification/classes.txt', str, delimiter='\\n'))"
   ]
  },
  {
   "cell_type": "code",
   "execution_count": 7,
   "metadata": {
    "collapsed": true
   },
   "outputs": [],
   "source": [
    "#ten = random.sample(classes, 10)\n",
    "#thirty = random.sample(classes, 30)"
   ]
  },
  {
   "cell_type": "code",
   "execution_count": 8,
   "metadata": {
    "collapsed": false
   },
   "outputs": [],
   "source": [
    "vgg_def = '../../../networks/vgg/deploy.prototxt'\n",
    "vgg_weights  = '../../../networks/vgg/VGG_ILSVRC_16_layers.caffemodel'\n",
    "vgg = caffe.Net(vgg_def, vgg_weights, caffe.TEST)\n",
    "#vgg.blobs['data'].reshape(50, 3, 224, 224)\n",
    "vggtransformer = caffe.io.Transformer({'data': vgg.blobs['data'].data.shape})\n",
    "vggtransformer.set_transpose('data', (2,0,1))  # move image channels to outermost dimension\n",
    "vggtransformer.set_mean('data', meanimage)            # subtract the dataset-mean value in each channel\n",
    "vggtransformer.set_raw_scale('data', 255)      # rescale from [0, 1] to [0, 255]\n",
    "vggtransformer.set_channel_swap('data', (2,1,0))  # swap channels from RGB to BGR"
   ]
  },
  {
   "cell_type": "code",
   "execution_count": 9,
   "metadata": {
    "collapsed": false
   },
   "outputs": [],
   "source": [
    "alex_def = '../../../networks/alexnet/deploy.prototxt'\n",
    "alex_weights  = '../../../networks/alexnet/alexnet.caffemodel'\n",
    "alex = caffe.Net(alex_def, alex_weights, caffe.TEST)\n",
    "#alex.blobs['data'].reshape(50, 3, 227, 227)\n",
    "alextransformer = caffe.io.Transformer({'data': alex.blobs['data'].data.shape})\n",
    "alextransformer.set_transpose('data', (2,0,1))  # move image channels to outermost dimension\n",
    "alextransformer.set_mean('data', meanimage)            # subtract the dataset-mean value in each channel\n",
    "alextransformer.set_raw_scale('data', 255)      # rescale from [0, 1] to [0, 255]\n",
    "alextransformer.set_channel_swap('data', (2,1,0))  # swap channels from RGB to BGR"
   ]
  },
  {
   "cell_type": "code",
   "execution_count": 10,
   "metadata": {
    "collapsed": true
   },
   "outputs": [],
   "source": [
    "def standardize(image, size):\n",
    "    existing_shape = image.shape\n",
    "    if existing_shape[1] > existing_shape[0]:\n",
    "        image = transform.rotate(image, 90, resize=True)\n",
    "    if image.shape != size:\n",
    "        image = transform.resize(image, size)\n",
    "    return image"
   ]
  },
  {
   "cell_type": "code",
   "execution_count": 11,
   "metadata": {
    "collapsed": false
   },
   "outputs": [],
   "source": [
    "def features(img, subset, layer, net):    \n",
    "    image = caffe.io.load_image(home + '../../../data/food-101/images/' + img[subset] + '.jpg')\n",
    "    transformed = transformer.preprocess('data', image)\n",
    "    net.blobs['data'].data[...] = transformed\n",
    "    net.forward()\n",
    "    return list(net.blobs[layer].data[0])"
   ]
  },
  {
   "cell_type": "code",
   "execution_count": 12,
   "metadata": {
    "collapsed": false
   },
   "outputs": [],
   "source": [
    "tenl = random.sample(train.keys(), 10)\n",
    "thirtyl = random.sample(train.keys(), 30)"
   ]
  },
  {
   "cell_type": "code",
   "execution_count": 13,
   "metadata": {
    "collapsed": false
   },
   "outputs": [],
   "source": [
    "def getdata(classes, data):\n",
    "    x, y = [], []\n",
    "    for i in range(len(classes)):\n",
    "        key = classes[i]\n",
    "        x  = x + data[key]\n",
    "        y = y + [i]*len(data[key])\n",
    "    return x,y"
   ]
  },
  {
   "cell_type": "code",
   "execution_count": 14,
   "metadata": {
    "collapsed": true
   },
   "outputs": [],
   "source": [
    "traintenx, trainteny = getdata(tenl, train)\n",
    "testtenx, testteny = getdata(tenl, test)\n",
    "trainthirtyx, trainthirtyy = getdata(thirtyl, train)\n",
    "testthirtyx, testthirtyy = getdata(thirtyl, test)"
   ]
  },
  {
   "cell_type": "code",
   "execution_count": 15,
   "metadata": {
    "collapsed": false
   },
   "outputs": [],
   "source": [
    "#http://stackoverflow.com/questions/32931280/extract-image-features-using-caffe-for-custom-image-classifier\n",
    "\n",
    "def extractfeaturesvgg(imgs, batch, layer):\n",
    "    features = np.empty((len(imgs),4096))\n",
    "    nxt = 0\n",
    "    for i in range(len(imgs)/batch):\n",
    "        images = []\n",
    "        wholebatch = imgs[batch*i : batch*(i+1)] \n",
    "        for j in wholebatch:\n",
    "            img = caffe.io.load_image('../../../data/food-101/images/' + str(j) + '.jpg')\n",
    "            transformed_image = vggtransformer.preprocess('data', img)\n",
    "            images.append(transformed_image)\n",
    "        vgg.blobs['data'].data[...] = images\n",
    "        vgg.forward()\n",
    "        for f in vgg.blobs[layer].data:\n",
    "            features[nxt] =  f\n",
    "            nxt = nxt + 1\n",
    "    return features\n",
    "\n",
    "def extractfeaturesalex(imgs, batch, layer):\n",
    "    features = np.empty((len(imgs),4096))\n",
    "    nxt = 0\n",
    "    for i in range(len(imgs)/batch):\n",
    "        images = []\n",
    "        wholebatch = imgs[batch*i : batch*(i+1)]   \n",
    "        for j in wholebatch:\n",
    "            img = caffe.io.load_image('../../../data/food-101/images/' + str(j) + '.jpg')\n",
    "            transformed_image = alextransformer.preprocess('data', img)\n",
    "            images.append(transformed_image)\n",
    "        alex.blobs['data'].data[...] = images\n",
    "        alex.forward()\n",
    "        for f in alex.blobs[layer].data:\n",
    "            features[nxt] =  f\n",
    "            nxt = nxt + 1\n",
    "    return features"
   ]
  },
  {
   "cell_type": "markdown",
   "metadata": {},
   "source": [
    "# VGGx30"
   ]
  },
  {
   "cell_type": "code",
   "execution_count": 16,
   "metadata": {
    "collapsed": false
   },
   "outputs": [
    {
     "name": "stdout",
     "output_type": "stream",
     "text": [
      "2283.82 seconds\n"
     ]
    }
   ],
   "source": [
    "t0 = time()\n",
    "trainthirtyf = extractfeaturesvgg(trainthirtyx, 10, 'fc7')\n",
    "print(\"%0.2f seconds\" % (time() - t0))"
   ]
  },
  {
   "cell_type": "code",
   "execution_count": 17,
   "metadata": {
    "collapsed": false
   },
   "outputs": [
    {
     "name": "stdout",
     "output_type": "stream",
     "text": [
      "761.73 seconds\n"
     ]
    }
   ],
   "source": [
    "t0 = time()\n",
    "testthirtyf = extractfeaturesvgg(testthirtyx, 10, 'fc7')\n",
    "print(\"%0.2f seconds\" % (time() - t0))"
   ]
  },
  {
   "cell_type": "code",
   "execution_count": 18,
   "metadata": {
    "collapsed": false
   },
   "outputs": [],
   "source": [
    "clf_vgg30 = linear_model.SGDClassifier(alpha=0.0001, average=False, class_weight=None, epsilon=0.1,\n",
    "            eta0=0.0001, fit_intercept=True, l1_ratio=0.15,\n",
    "            learning_rate='optimal', loss='hinge', n_iter=20, n_jobs=4,\n",
    "            penalty='l2', power_t=0.5, random_state=None, shuffle=True,\n",
    "            verbose=0, warm_start=False)"
   ]
  },
  {
   "cell_type": "code",
   "execution_count": 19,
   "metadata": {
    "collapsed": false
   },
   "outputs": [
    {
     "data": {
      "text/plain": [
       "SGDClassifier(alpha=0.0001, average=False, class_weight=None, epsilon=0.1,\n",
       "       eta0=0.0001, fit_intercept=True, l1_ratio=0.15,\n",
       "       learning_rate='optimal', loss='hinge', n_iter=20, n_jobs=4,\n",
       "       penalty='l2', power_t=0.5, random_state=None, shuffle=True,\n",
       "       verbose=0, warm_start=False)"
      ]
     },
     "execution_count": 19,
     "metadata": {},
     "output_type": "execute_result"
    }
   ],
   "source": [
    "clf_vgg30.fit(trainthirtyf, np.asarray(trainthirtyy))"
   ]
  },
  {
   "cell_type": "code",
   "execution_count": 20,
   "metadata": {
    "collapsed": false
   },
   "outputs": [
    {
     "data": {
      "text/plain": [
       "0.95022222222222219"
      ]
     },
     "execution_count": 20,
     "metadata": {},
     "output_type": "execute_result"
    }
   ],
   "source": [
    "clf_vgg30.score(trainthirtyf, np.asarray(trainthirtyy))"
   ]
  },
  {
   "cell_type": "code",
   "execution_count": 63,
   "metadata": {
    "collapsed": false
   },
   "outputs": [],
   "source": [
    "ac = clf_vgg30.score(testthirtyf, np.asarray(testthirtyy))"
   ]
  },
  {
   "cell_type": "code",
   "execution_count": 54,
   "metadata": {
    "collapsed": false
   },
   "outputs": [],
   "source": [
    "f = open('vgg30accuracy.txt', 'a') \n",
    "f.write(str(ac))\n",
    "f.write('\\n') \n",
    "f.close() "
   ]
  },
  {
   "cell_type": "code",
   "execution_count": 96,
   "metadata": {
    "collapsed": true
   },
   "outputs": [],
   "source": [
    "vgg30accuracy = list(np.loadtxt('vgg30accuracy.txt', float, delimiter='\\n'))"
   ]
  },
  {
   "cell_type": "code",
   "execution_count": 97,
   "metadata": {
    "collapsed": false
   },
   "outputs": [
    {
     "name": "stdout",
     "output_type": "stream",
     "text": [
      "Average vgg30 accuracy is:\n",
      "0.752534482957\n"
     ]
    }
   ],
   "source": [
    "print 'Average vgg30 accuracy is:' \n",
    "print np.mean(vgg30accuracy)"
   ]
  },
  {
   "cell_type": "code",
   "execution_count": 22,
   "metadata": {
    "collapsed": false
   },
   "outputs": [],
   "source": [
    "np.savez_compressed('../../../projects/irina.tirosyan/1.CNN-Classification/vgg30', vgg30_train = trainthirtyf, vgg30_test = testthirtyf)"
   ]
  },
  {
   "cell_type": "code",
   "execution_count": 23,
   "metadata": {
    "collapsed": false
   },
   "outputs": [
    {
     "name": "stdout",
     "output_type": "stream",
     "text": [
      "                      precision    recall  f1-score   support\n",
      "\n",
      "        spring_rolls       0.61      0.74      0.67       250\n",
      "          cheesecake       0.49      0.57      0.53       250\n",
      "              nachos       0.80      0.45      0.57       250\n",
      "           escargots       0.64      0.82      0.72       250\n",
      "       caprese_salad       0.66      0.74      0.70       250\n",
      "           hamburger       0.74      0.59      0.65       250\n",
      "              paella       0.80      0.60      0.68       250\n",
      "          crab_cakes       0.70      0.34      0.46       250\n",
      "           apple_pie       0.69      0.41      0.51       250\n",
      "        creme_brulee       0.82      0.80      0.81       250\n",
      "        clam_chowder       0.87      0.84      0.86       250\n",
      "       seaweed_salad       0.86      0.81      0.83       250\n",
      "             risotto       0.67      0.57      0.62       250\n",
      "            macarons       0.88      0.94      0.91       250\n",
      "        deviled_eggs       0.61      0.83      0.71       250\n",
      "        cheese_plate       0.52      0.75      0.62       250\n",
      "          bruschetta       0.64      0.44      0.52       250\n",
      "pulled_pork_sandwich       0.58      0.64      0.61       250\n",
      "         peking_duck       0.65      0.67      0.66       250\n",
      "            pad_thai       0.73      0.88      0.79       250\n",
      "             churros       0.80      0.74      0.77       250\n",
      "   hot_and_sour_soup       0.88      0.89      0.89       250\n",
      "              donuts       0.89      0.69      0.77       250\n",
      "         onion_rings       0.77      0.84      0.80       250\n",
      "            bibimbap       0.80      0.81      0.81       250\n",
      "             ravioli       0.49      0.51      0.50       250\n",
      "             ceviche       0.39      0.47      0.43       250\n",
      "           prime_rib       0.70      0.83      0.76       250\n",
      "                 pho       0.86      0.87      0.86       250\n",
      "     red_velvet_cake       0.74      0.87      0.80       250\n",
      "\n",
      "         avg / total       0.71      0.70      0.69      7500\n",
      "\n"
     ]
    }
   ],
   "source": [
    "print(classification_report(testthirtyy, clf_vgg30.predict(testthirtyf), target_names = thirtyl))"
   ]
  },
  {
   "cell_type": "markdown",
   "metadata": {},
   "source": [
    "# Alexnetx30"
   ]
  },
  {
   "cell_type": "code",
   "execution_count": 24,
   "metadata": {
    "collapsed": false
   },
   "outputs": [
    {
     "name": "stdout",
     "output_type": "stream",
     "text": [
      "657.00 seconds\n"
     ]
    }
   ],
   "source": [
    "t0 = time()\n",
    "trainthirtyf_alex = extractfeaturesalex(trainthirtyx, 10, 'fc7')\n",
    "print(\"%0.2f seconds\" % (time() - t0))"
   ]
  },
  {
   "cell_type": "code",
   "execution_count": 25,
   "metadata": {
    "collapsed": false
   },
   "outputs": [
    {
     "name": "stdout",
     "output_type": "stream",
     "text": [
      "223.58 seconds\n"
     ]
    }
   ],
   "source": [
    "t0 = time()\n",
    "testthirtyf_alex = extractfeaturesalex(testthirtyx, 10, 'fc7')\n",
    "print(\"%0.2f seconds\" % (time() - t0))"
   ]
  },
  {
   "cell_type": "code",
   "execution_count": 26,
   "metadata": {
    "collapsed": true
   },
   "outputs": [],
   "source": [
    "clf_alex30 = linear_model.SGDClassifier(alpha=0.0001, average=False, class_weight=None, epsilon=0.1,\n",
    "            eta0=0.0001, fit_intercept=True, l1_ratio=0.15,\n",
    "            learning_rate='optimal', loss='hinge', n_iter=20, n_jobs=4,\n",
    "            penalty='l2', power_t=0.5, random_state=None, shuffle=True,\n",
    "            verbose=0, warm_start=False)"
   ]
  },
  {
   "cell_type": "code",
   "execution_count": 27,
   "metadata": {
    "collapsed": false
   },
   "outputs": [
    {
     "data": {
      "text/plain": [
       "SGDClassifier(alpha=0.0001, average=False, class_weight=None, epsilon=0.1,\n",
       "       eta0=0.0001, fit_intercept=True, l1_ratio=0.15,\n",
       "       learning_rate='optimal', loss='hinge', n_iter=20, n_jobs=4,\n",
       "       penalty='l2', power_t=0.5, random_state=None, shuffle=True,\n",
       "       verbose=0, warm_start=False)"
      ]
     },
     "execution_count": 27,
     "metadata": {},
     "output_type": "execute_result"
    }
   ],
   "source": [
    "clf_alex30.fit(trainthirtyf_alex, np.asarray(trainthirtyy))"
   ]
  },
  {
   "cell_type": "code",
   "execution_count": 28,
   "metadata": {
    "collapsed": false
   },
   "outputs": [
    {
     "data": {
      "text/plain": [
       "0.92755555555555558"
      ]
     },
     "execution_count": 28,
     "metadata": {},
     "output_type": "execute_result"
    }
   ],
   "source": [
    "clf_alex30.score(trainthirtyf_alex, np.asarray(trainthirtyy))"
   ]
  },
  {
   "cell_type": "code",
   "execution_count": 29,
   "metadata": {
    "collapsed": false
   },
   "outputs": [
    {
     "data": {
      "text/plain": [
       "0.6041333333333333"
      ]
     },
     "execution_count": 29,
     "metadata": {},
     "output_type": "execute_result"
    }
   ],
   "source": [
    "clf_alex30.score(testthirtyf_alex, np.asarray(testthirtyy))"
   ]
  },
  {
   "cell_type": "code",
   "execution_count": 72,
   "metadata": {
    "collapsed": false
   },
   "outputs": [
    {
     "data": {
      "text/plain": [
       "0.6041333333333333"
      ]
     },
     "execution_count": 72,
     "metadata": {},
     "output_type": "execute_result"
    }
   ],
   "source": [
    "ac = clf_alex30.score(testthirtyf_alex, np.asarray(testthirtyy))\n",
    "ac"
   ]
  },
  {
   "cell_type": "code",
   "execution_count": 74,
   "metadata": {
    "collapsed": true
   },
   "outputs": [],
   "source": [
    "f = open('alex30accuracy.txt', 'a') \n",
    "f.write(str(ac))\n",
    "f.write('\\n') \n",
    "f.close() "
   ]
  },
  {
   "cell_type": "code",
   "execution_count": 98,
   "metadata": {
    "collapsed": false
   },
   "outputs": [],
   "source": [
    "alex30accuracy = list(np.loadtxt('alex30accuracy.txt', float, delimiter='\\n'))"
   ]
  },
  {
   "cell_type": "code",
   "execution_count": 99,
   "metadata": {
    "collapsed": false
   },
   "outputs": [
    {
     "name": "stdout",
     "output_type": "stream",
     "text": [
      "Average alex30 accuracy is:\n",
      "0.656716137602\n"
     ]
    }
   ],
   "source": [
    "print 'Average alex30 accuracy is:' \n",
    "print np.mean(alex30accuracy)"
   ]
  },
  {
   "cell_type": "code",
   "execution_count": 30,
   "metadata": {
    "collapsed": true
   },
   "outputs": [],
   "source": [
    "np.savez_compressed('../../../projects/irina.tirosyan/1.CNN-Classification/alex30', alex30_train = trainthirtyf_alex, alex30_test = testthirtyf_alex)"
   ]
  },
  {
   "cell_type": "code",
   "execution_count": 31,
   "metadata": {
    "collapsed": false
   },
   "outputs": [
    {
     "name": "stdout",
     "output_type": "stream",
     "text": [
      "                      precision    recall  f1-score   support\n",
      "\n",
      "        spring_rolls       0.57      0.57      0.57       250\n",
      "          cheesecake       0.62      0.45      0.52       250\n",
      "              nachos       0.37      0.62      0.46       250\n",
      "           escargots       0.85      0.51      0.64       250\n",
      "       caprese_salad       0.46      0.65      0.54       250\n",
      "           hamburger       0.53      0.45      0.49       250\n",
      "              paella       0.44      0.67      0.53       250\n",
      "          crab_cakes       0.48      0.40      0.43       250\n",
      "           apple_pie       0.45      0.48      0.46       250\n",
      "        creme_brulee       0.71      0.75      0.73       250\n",
      "        clam_chowder       0.76      0.81      0.78       250\n",
      "       seaweed_salad       0.76      0.82      0.79       250\n",
      "             risotto       0.53      0.42      0.47       250\n",
      "            macarons       0.88      0.83      0.85       250\n",
      "        deviled_eggs       0.75      0.66      0.70       250\n",
      "        cheese_plate       0.62      0.41      0.50       250\n",
      "          bruschetta       0.37      0.47      0.41       250\n",
      "pulled_pork_sandwich       0.35      0.60      0.44       250\n",
      "         peking_duck       0.59      0.56      0.57       250\n",
      "            pad_thai       0.67      0.79      0.73       250\n",
      "             churros       0.64      0.66      0.65       250\n",
      "   hot_and_sour_soup       0.74      0.88      0.81       250\n",
      "              donuts       0.69      0.63      0.66       250\n",
      "         onion_rings       0.71      0.75      0.73       250\n",
      "            bibimbap       0.85      0.68      0.76       250\n",
      "             ravioli       0.59      0.24      0.34       250\n",
      "             ceviche       0.49      0.26      0.34       250\n",
      "           prime_rib       0.72      0.54      0.62       250\n",
      "                 pho       0.80      0.82      0.81       250\n",
      "     red_velvet_cake       0.75      0.76      0.75       250\n",
      "\n",
      "         avg / total       0.62      0.60      0.60      7500\n",
      "\n"
     ]
    }
   ],
   "source": [
    "print(classification_report(testthirtyy, clf_alex30.predict(testthirtyf_alex), target_names = thirtyl))"
   ]
  },
  {
   "cell_type": "markdown",
   "metadata": {},
   "source": [
    "# VGGx10"
   ]
  },
  {
   "cell_type": "code",
   "execution_count": 32,
   "metadata": {
    "collapsed": false
   },
   "outputs": [
    {
     "name": "stdout",
     "output_type": "stream",
     "text": [
      "770.45 seconds\n"
     ]
    }
   ],
   "source": [
    "t0 = time()\n",
    "traintenf = extractfeaturesvgg(traintenx, 10, 'fc7')\n",
    "print(\"%0.2f seconds\" % (time() - t0))"
   ]
  },
  {
   "cell_type": "code",
   "execution_count": 33,
   "metadata": {
    "collapsed": false
   },
   "outputs": [
    {
     "name": "stdout",
     "output_type": "stream",
     "text": [
      "259.78 seconds\n"
     ]
    }
   ],
   "source": [
    "t0 = time()\n",
    "testtenf = extractfeaturesvgg(testtenx, 10, 'fc7')\n",
    "print(\"%0.2f seconds\" % (time() - t0))"
   ]
  },
  {
   "cell_type": "code",
   "execution_count": 34,
   "metadata": {
    "collapsed": true
   },
   "outputs": [],
   "source": [
    "clf_vgg10 = linear_model.SGDClassifier(alpha=0.0001, average=False, class_weight=None, epsilon=0.1,\n",
    "            eta0=0.0001, fit_intercept=True, l1_ratio=0.15,\n",
    "            learning_rate='optimal', loss='hinge', n_iter=20, n_jobs=4,\n",
    "            penalty='l2', power_t=0.5, random_state=None, shuffle=True,\n",
    "            verbose=0, warm_start=False)"
   ]
  },
  {
   "cell_type": "code",
   "execution_count": 35,
   "metadata": {
    "collapsed": false
   },
   "outputs": [
    {
     "data": {
      "text/plain": [
       "SGDClassifier(alpha=0.0001, average=False, class_weight=None, epsilon=0.1,\n",
       "       eta0=0.0001, fit_intercept=True, l1_ratio=0.15,\n",
       "       learning_rate='optimal', loss='hinge', n_iter=20, n_jobs=4,\n",
       "       penalty='l2', power_t=0.5, random_state=None, shuffle=True,\n",
       "       verbose=0, warm_start=False)"
      ]
     },
     "execution_count": 35,
     "metadata": {},
     "output_type": "execute_result"
    }
   ],
   "source": [
    "clf_vgg10.fit(traintenf, np.asarray(trainteny))"
   ]
  },
  {
   "cell_type": "code",
   "execution_count": 36,
   "metadata": {
    "collapsed": false
   },
   "outputs": [
    {
     "data": {
      "text/plain": [
       "0.98640000000000005"
      ]
     },
     "execution_count": 36,
     "metadata": {},
     "output_type": "execute_result"
    }
   ],
   "source": [
    "clf_vgg10.score(traintenf, np.asarray(trainteny))"
   ]
  },
  {
   "cell_type": "code",
   "execution_count": 37,
   "metadata": {
    "collapsed": false
   },
   "outputs": [
    {
     "data": {
      "text/plain": [
       "0.78439999999999999"
      ]
     },
     "execution_count": 37,
     "metadata": {},
     "output_type": "execute_result"
    }
   ],
   "source": [
    "clf_vgg10.score(testtenf, np.asarray(testteny))"
   ]
  },
  {
   "cell_type": "code",
   "execution_count": 80,
   "metadata": {
    "collapsed": false
   },
   "outputs": [],
   "source": [
    "ac = clf_vgg10.score(testtenf, np.asarray(testteny))"
   ]
  },
  {
   "cell_type": "code",
   "execution_count": 82,
   "metadata": {
    "collapsed": true
   },
   "outputs": [],
   "source": [
    "f = open('vgg10accuracy.txt', 'a') \n",
    "f.write(str(ac))\n",
    "f.write('\\n') \n",
    "f.close() "
   ]
  },
  {
   "cell_type": "code",
   "execution_count": 100,
   "metadata": {
    "collapsed": true
   },
   "outputs": [],
   "source": [
    "vgg10accuracy = list(np.loadtxt('vgg10accuracy.txt', float, delimiter='\\n'))"
   ]
  },
  {
   "cell_type": "code",
   "execution_count": 101,
   "metadata": {
    "collapsed": false
   },
   "outputs": [
    {
     "name": "stdout",
     "output_type": "stream",
     "text": [
      "Average vgg10 accuracy is:\n",
      "0.83471997479\n"
     ]
    }
   ],
   "source": [
    "print 'Average vgg10 accuracy is:' \n",
    "print np.mean(vgg10accuracy)"
   ]
  },
  {
   "cell_type": "code",
   "execution_count": 38,
   "metadata": {
    "collapsed": true
   },
   "outputs": [],
   "source": [
    "np.savez_compressed('../../../projects/irina.tirosyan/1.CNN-Classification/vgg10', vgg10_train = traintenf, vgg10_test = testtenf)"
   ]
  },
  {
   "cell_type": "code",
   "execution_count": 39,
   "metadata": {
    "collapsed": false
   },
   "outputs": [
    {
     "name": "stdout",
     "output_type": "stream",
     "text": [
      "                  precision    recall  f1-score   support\n",
      "\n",
      "        bibimbap       0.91      0.90      0.91       250\n",
      " red_velvet_cake       0.94      0.93      0.94       250\n",
      "    cheese_plate       0.76      0.72      0.74       250\n",
      "shrimp_and_grits       0.83      0.83      0.83       250\n",
      "       hamburger       0.82      0.86      0.84       250\n",
      "      beet_salad       0.75      0.77      0.76       250\n",
      "        takoyaki       0.80      0.81      0.81       250\n",
      "     peking_duck       0.77      0.74      0.75       250\n",
      "       foie_gras       0.61      0.55      0.58       250\n",
      "  grilled_salmon       0.65      0.74      0.69       250\n",
      "\n",
      "     avg / total       0.78      0.78      0.78      2500\n",
      "\n"
     ]
    }
   ],
   "source": [
    "print(classification_report(testteny, clf_vgg10.predict(testtenf), target_names = tenl))"
   ]
  },
  {
   "cell_type": "markdown",
   "metadata": {},
   "source": [
    "# Alexnetx10"
   ]
  },
  {
   "cell_type": "code",
   "execution_count": 40,
   "metadata": {
    "collapsed": false
   },
   "outputs": [
    {
     "name": "stdout",
     "output_type": "stream",
     "text": [
      "232.86 seconds\n"
     ]
    }
   ],
   "source": [
    "t0 = time()\n",
    "traintenf_alex = extractfeaturesalex(traintenx, 10, 'fc7')\n",
    "print(\"%0.2f seconds\" % (time() - t0))"
   ]
  },
  {
   "cell_type": "code",
   "execution_count": 41,
   "metadata": {
    "collapsed": false
   },
   "outputs": [
    {
     "name": "stdout",
     "output_type": "stream",
     "text": [
      "75.00 seconds\n"
     ]
    }
   ],
   "source": [
    "t0 = time()\n",
    "testtenf_alex = extractfeaturesalex(testtenx, 10, 'fc7')\n",
    "print(\"%0.2f seconds\" % (time() - t0))"
   ]
  },
  {
   "cell_type": "code",
   "execution_count": 42,
   "metadata": {
    "collapsed": true
   },
   "outputs": [],
   "source": [
    "clf_alex10 = linear_model.SGDClassifier(alpha=0.0001, average=False, class_weight=None, epsilon=0.1,\n",
    "            eta0=0.0001, fit_intercept=True, l1_ratio=0.15,\n",
    "            learning_rate='optimal', loss='hinge', n_iter=20, n_jobs=4,\n",
    "            penalty='l2', power_t=0.5, random_state=None, shuffle=True,\n",
    "            verbose=0, warm_start=False)"
   ]
  },
  {
   "cell_type": "code",
   "execution_count": 43,
   "metadata": {
    "collapsed": false
   },
   "outputs": [
    {
     "data": {
      "text/plain": [
       "SGDClassifier(alpha=0.0001, average=False, class_weight=None, epsilon=0.1,\n",
       "       eta0=0.0001, fit_intercept=True, l1_ratio=0.15,\n",
       "       learning_rate='optimal', loss='hinge', n_iter=20, n_jobs=4,\n",
       "       penalty='l2', power_t=0.5, random_state=None, shuffle=True,\n",
       "       verbose=0, warm_start=False)"
      ]
     },
     "execution_count": 43,
     "metadata": {},
     "output_type": "execute_result"
    }
   ],
   "source": [
    "clf_alex10.fit(traintenf_alex, np.asarray(trainteny))"
   ]
  },
  {
   "cell_type": "code",
   "execution_count": 44,
   "metadata": {
    "collapsed": false
   },
   "outputs": [
    {
     "data": {
      "text/plain": [
       "0.99253333333333338"
      ]
     },
     "execution_count": 44,
     "metadata": {},
     "output_type": "execute_result"
    }
   ],
   "source": [
    "clf_alex10.score(traintenf_alex, np.asarray(trainteny))"
   ]
  },
  {
   "cell_type": "code",
   "execution_count": 45,
   "metadata": {
    "collapsed": false
   },
   "outputs": [
    {
     "data": {
      "text/plain": [
       "0.71960000000000002"
      ]
     },
     "execution_count": 45,
     "metadata": {},
     "output_type": "execute_result"
    }
   ],
   "source": [
    "clf_alex10.score(testtenf_alex, np.asarray(testteny))"
   ]
  },
  {
   "cell_type": "code",
   "execution_count": 89,
   "metadata": {
    "collapsed": true
   },
   "outputs": [],
   "source": [
    "ac = clf_alex10.score(testtenf_alex, np.asarray(testteny))"
   ]
  },
  {
   "cell_type": "code",
   "execution_count": 90,
   "metadata": {
    "collapsed": true
   },
   "outputs": [],
   "source": [
    "f = open('alex10accuracy.txt', 'a') \n",
    "f.write(str(ac))\n",
    "f.write('\\n') \n",
    "f.close() "
   ]
  },
  {
   "cell_type": "code",
   "execution_count": 102,
   "metadata": {
    "collapsed": true
   },
   "outputs": [],
   "source": [
    "alex10accuracy = list(np.loadtxt('alex10accuracy.txt', float, delimiter='\\n'))"
   ]
  },
  {
   "cell_type": "code",
   "execution_count": 103,
   "metadata": {
    "collapsed": false
   },
   "outputs": [
    {
     "name": "stdout",
     "output_type": "stream",
     "text": [
      "Average alex10 accuracy is:\n",
      "0.77551179461\n"
     ]
    }
   ],
   "source": [
    "print 'Average alex10 accuracy is:' \n",
    "print np.mean(alex10accuracy)"
   ]
  },
  {
   "cell_type": "code",
   "execution_count": 46,
   "metadata": {
    "collapsed": true
   },
   "outputs": [],
   "source": [
    "np.savez_compressed('../../../projects/irina.tirosyan/1.CNN-Classification/alex10', alex10_train = traintenf_alex, alex10_test = testtenf_alex)"
   ]
  },
  {
   "cell_type": "code",
   "execution_count": 47,
   "metadata": {
    "collapsed": false,
    "scrolled": true
   },
   "outputs": [
    {
     "name": "stdout",
     "output_type": "stream",
     "text": [
      "                  precision    recall  f1-score   support\n",
      "\n",
      "        bibimbap       0.89      0.87      0.88       250\n",
      " red_velvet_cake       0.78      0.89      0.83       250\n",
      "    cheese_plate       0.72      0.55      0.62       250\n",
      "shrimp_and_grits       0.72      0.84      0.78       250\n",
      "       hamburger       0.70      0.78      0.74       250\n",
      "      beet_salad       0.71      0.70      0.70       250\n",
      "        takoyaki       0.82      0.71      0.76       250\n",
      "     peking_duck       0.69      0.69      0.69       250\n",
      "       foie_gras       0.57      0.61      0.59       250\n",
      "  grilled_salmon       0.59      0.56      0.58       250\n",
      "\n",
      "     avg / total       0.72      0.72      0.72      2500\n",
      "\n"
     ]
    }
   ],
   "source": [
    "print(classification_report(testteny, clf_alex10.predict(testtenf_alex), target_names = tenl))"
   ]
  }
 ],
 "metadata": {
  "kernelspec": {
   "display_name": "Python 2",
   "language": "python",
   "name": "python2"
  },
  "language_info": {
   "codemirror_mode": {
    "name": "ipython",
    "version": 2
   },
   "file_extension": ".py",
   "mimetype": "text/x-python",
   "name": "python",
   "nbconvert_exporter": "python",
   "pygments_lexer": "ipython2",
   "version": "2.7.6"
  }
 },
 "nbformat": 4,
 "nbformat_minor": 1
}
